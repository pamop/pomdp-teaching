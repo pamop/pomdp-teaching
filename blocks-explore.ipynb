{
 "cells": [
  {
   "cell_type": "code",
   "execution_count": 14,
   "metadata": {
    "collapsed": true
   },
   "outputs": [],
   "source": [
    "#exploring with the blocks paradigm\n",
    "#let us see!\n",
    "\n",
    "#pamop @nyu.edu\n",
    "#sept 2018\n",
    "\n",
    "# imports\n",
    "from random import randint\n",
    "import numpy as np\n",
    "import random\n",
    "import datetime # for limiting calculation to wall clock time\n",
    "import math\n",
    "import copy\n",
    "import matplotlib.pyplot as plt\n",
    "import pdb"
   ]
  },
  {
   "cell_type": "code",
   "execution_count": 3,
   "metadata": {
    "collapsed": true
   },
   "outputs": [],
   "source": [
    "#states. there are 13 (3 blocks, six stacks, six double-single groups, one where no groups)\n",
    "\n",
    "S = [0,1,2,3,4,5,6,7,8,9,10,11,12]\n",
    "StateNames = ['r,g,b','r,gb','r,bg','g,rb','g,br','b,rg','b,gr','rgb','rbg','grb','gbr','brg','bgr']\n",
    "C = [0,1,2]\n",
    "Colors = ['red','green','blue']\n",
    "\n",
    "#0 r, g, b\n",
    "#1 r,gb\n",
    "#2 r,bg\n",
    "#3 g,rb\n",
    "#4 g,br\n",
    "#5 b,rg\n",
    "#6 b,gr\n",
    "#7 rgb\n",
    "#8 rbg\n",
    "#9 grb\n",
    "#10 gbr\n",
    "#11 brg\n",
    "#12 bgr\n"
   ]
  },
  {
   "cell_type": "code",
   "execution_count": 56,
   "metadata": {
    "collapsed": true
   },
   "outputs": [],
   "source": [
    "#actions. there are 18 (3 categories of actions, 6 actions in each category)\n",
    "\n",
    "A = [0,1,2]\n",
    "Actions = [\"Put x on y.\", \"Take x off y.\", \"Is x on y?\"]\n"
   ]
  },
  {
   "cell_type": "code",
   "execution_count": 57,
   "metadata": {
    "collapsed": true
   },
   "outputs": [],
   "source": [
    "# build action string\n",
    "def act_str(a,c1,c2):\n",
    "    Colors = ['red','green','blue']\n",
    "    assert c1 < len(Colors) and c2 < len(Colors), \"One of the color indices is outside the size of Colors matrix. See act_str method.\"\n",
    "    c1 = Colors[c1]\n",
    "    c2 = Colors[c2]\n",
    "    if a == 0 or a == \"Put x on y.\":\n",
    "        astr = \"Put \" + c1 + \" on \" + c2 + \".\"\n",
    "    elif a == 1 or a == \"Take x off y.\":\n",
    "        astr = \"Take \" + c1 + \" off \" + c2 + \".\"\n",
    "    elif a == 2 or a == \"Is x on y?\":\n",
    "        astr = \"Is \" + c1 + \" on \" + c2 + \"?\"\n",
    "    else:\n",
    "        raise ValueError(\"Invalid action input when trying to build action string. See act_str method.\")\n",
    "    return astr"
   ]
  },
  {
   "cell_type": "code",
   "execution_count": 58,
   "metadata": {
    "collapsed": true
   },
   "outputs": [],
   "source": [
    "#observations. there are 2\n",
    "\n",
    "O = [0,1]\n",
    "Observations = ['no','yes']"
   ]
  },
  {
   "cell_type": "code",
   "execution_count": 59,
   "metadata": {
    "collapsed": true
   },
   "outputs": [],
   "source": [
    "#transitions.\n",
    "\n",
    "T = np.zeros([len(S),len(S),len(A)])\n",
    "T_putaction = np.array([[0., 0., 0., 0., 0., 0., 0., 0., 0., 0., 0., 0., 0.],\n",
    "                       [0., 0., 0., 0., 0., 0., 0., 0., 0., 0., 0., 0., 0.],\n",
    "                       [0., 0., 0., 0., 0., 0., 0., 0., 0., 0., 0., 0., 0.],\n",
    "                       [0., 0., 0., 0., 0., 0., 0., 0., 0., 0., 0., 0., 0.],\n",
    "                       [0., 0., 0., 0., 0., 0., 0., 0., 0., 0., 0., 0., 0.],\n",
    "                       [0., 0., 0., 0., 0., 0., 0., 0., 0., 0., 0., 0., 0.],\n",
    "                       [0., 0., 0., 0., 0., 0., 0., 0., 0., 0., 0., 0., 0.],\n",
    "                       [0., 0., 0., 0., 0., 0., 0., 0., 0., 0., 0., 0., 0.],\n",
    "                       [0., 0., 0., 0., 0., 0., 0., 0., 0., 0., 0., 0., 0.],\n",
    "                       [0., 0., 0., 0., 0., 0., 0., 0., 0., 0., 0., 0., 0.],\n",
    "                       [0., 0., 0., 0., 0., 0., 0., 0., 0., 0., 0., 0., 0.],\n",
    "                       [0., 0., 0., 0., 0., 0., 0., 0., 0., 0., 0., 0., 0.],\n",
    "                       [0., 0., 0., 0., 0., 0., 0., 0., 0., 0., 0., 0., 0.]])"
   ]
  },
  {
   "cell_type": "code",
   "execution_count": 4,
   "metadata": {
    "collapsed": true
   },
   "outputs": [],
   "source": [
    "#transitions\n",
    "# in form of a transition function: \n",
    "\n",
    "class BlockGame():\n",
    "    def __init__(self,target):\n",
    "        self.Actions = [\"Put x on y.\", \"Take x off y.\", \"Is x on y?\", \"Final test\"]\n",
    "        self.ActBrief = [\"put\",\"take\",\"ask\",\"test\"]\n",
    "        self.Observations = ['no','yes']\n",
    "        self.Colors = ['red','green','blue']\n",
    "        self.ColorsShort = ['r','g','b']\n",
    "        self.StateNames = ['r,g,b','r,gb','r,bg','g,rb','g,br','b,rg','b,gr','rgb','rbg','grb','gbr','brg','bgr']\n",
    "        # reward dynamics:\n",
    "        self.ActionCost = -1\n",
    "        self.CorrectRwd = 100\n",
    "        self.IncorrectRwd = -80\n",
    "        self.IllegalActionPenalty = 5\n",
    "        \n",
    "        self.target = target\n",
    "#         if target in self.StateNames:\n",
    "#             self.target = target\n",
    "#         else:\n",
    "#             raise Exception(\"Error initializing block game object: Target state must be a valid state.\")\n",
    "        \n",
    "    # transitition function\n",
    "    # state is 0 to 12\n",
    "    def next_state(self, state, action):    \n",
    "        # check action to end game\n",
    "        if action == 3 or action[0]==2: # ask or check\n",
    "            return state \n",
    "        \n",
    "        # if you chose an \"illegal\" action, the state doesn't change (just a time penalty in rwd function)\n",
    "        if action not in self.legal_actions_state(state):\n",
    "            return state\n",
    "        \n",
    "        # actions should look like: [0,'r','g'] for Put red on green, [1,'b','r'] for Take blue off red, etc.\n",
    "        assert action[1] in ['r','b','g'], 'Err in next_state function: invalid action color labels'\n",
    "        assert action[2] in ['r','b','g'], 'Err in next_state function: invalid action color labels'\n",
    "        \n",
    "        # index of colors x and y in state name\n",
    "        s = self.StateNames[state]\n",
    "        x = s.index(action[1])\n",
    "        y = s.index(action[2])\n",
    "        \n",
    "#         if action[0]==2: # ask: is x on y\n",
    "#             return state\n",
    "        if action[0]==1: # take x off y\n",
    "            if len(s)==4: # e.g., 'a,bc'\n",
    "                return 0 #'r,g,b' #state[:x] + ',' + state[y] # put a comma between x and y ## ACTUALLY this should be :1 and 2 really\n",
    "            elif len(s)==3: # e.g., 'xyz' \n",
    "                # note that legal actions (above) should only pass through cases of taking first off of second here\n",
    "                return self.StateNames.index(s[0] + ',' + s[1:])\n",
    "            else:\n",
    "                raise Exception('Can only legally take a block off another block if length of state string is 3 or 4')\n",
    "        elif action[0]==0: # put x on y\n",
    "            if len(s)==5:\n",
    "                # gotta handle this more specially because there are all possible \"put\" options\n",
    "                allcolors = set(['r','g','b'])\n",
    "                allcolors.remove(action[1])\n",
    "                allcolors.remove(action[2])\n",
    "                solocolor = allcolors.pop() # so now we know which one is left out\n",
    "                return self.StateNames.index(solocolor + ',' + action[1] + action[2])\n",
    "            elif len(s)==4:\n",
    "                # remove the comma (remember, only legal actions being handled here)\n",
    "                return self.StateNames.index(s[0] + s[2:]) # NO MORE COMMA\n",
    "            else:\n",
    "                raise Exception('Can only put a block on another block if length of state string is 4 or 5')\n",
    "        else:\n",
    "            raise Exception('Err in next_state fxn: First value in action should be 0, 1, or 2.')\n",
    "    \n",
    "    \n",
    "    # observation function\n",
    "    def observation(self, state, action):\n",
    "        s = self.StateNames[state]\n",
    "        if action == 3:\n",
    "            return []\n",
    "        elif action[0] == 2: # ask is x on y\n",
    "            if s.index(action[2]) - s.index(action[1]) == 1: # if they are x is just left of y,\n",
    "                return 1\n",
    "            else:\n",
    "                return 0 # should these be true / false? 'yes' 'no' ? shouldn't really matter besides what's convenient\n",
    "        elif action[0] == 1:\n",
    "            return []\n",
    "        elif action[0] == 0:\n",
    "            return []\n",
    "        \n",
    "    def reward(self, state, action):\n",
    "        done = False\n",
    "        \n",
    "#         punishment for choosing an illegal action \n",
    "        if action not in self.legal_actions_state(state):\n",
    "            return self.IllegalActionPenalty*self.ActionCost, done\n",
    "        \n",
    "        if action == 3: # check\n",
    "            done = True\n",
    "            if self.StateNames[state] == self.target or self.StateNames[state] in self.target: #if correct\n",
    "                return self.CorrectRwd, done\n",
    "            else:\n",
    "                return self.IncorrectRwd, done\n",
    "        elif action[0] == 2: # ask is x on y\n",
    "            return self.ActionCost, done\n",
    "        elif action[0] == 1: # take x off y\n",
    "            return self.ActionCost, done\n",
    "        elif action[0] == 0: # put x on y\n",
    "            return self.ActionCost, done\n",
    "        \n",
    "    # i could do this state by state? or try to parse the state string by color and commas\n",
    "    def legal_actions_state(self,state):\n",
    "        \n",
    "        put_acts = [[0,'r','g'],[0,'r','b'],[0,'g','r'],[0,'g','b'],[0,'b','r'],[0,'b','g']]\n",
    "        take_acts = [[1,'r','g'],[1,'r','b'],[1,'g','r'],[1,'g','b'],[1,'b','r'],[1,'b','g']]\n",
    "        ask_acts = [[2,'r','g'],[2,'r','b'],[2,'g','r'],[2,'g','b'],[2,'b','r'],[2,'b','g']]\n",
    "        check = [3] # submit for checking if correct\n",
    "        \n",
    "        # or could state as number instead of string, i'm not sure yet...\n",
    "        if state==0: #self.StateNames[0]: # 'r,g,b'\n",
    "            return put_acts + ask_acts + check\n",
    "        elif state==1: #self.StateNames[1]: # 'r,gb'\n",
    "            return [put_acts[0]] + [take_acts[3]] + ask_acts + check\n",
    "        elif state==2: #self.StateNames[2]: # 'r,bg'\n",
    "            return [put_acts[1]] + [take_acts[5]] + ask_acts + check\n",
    "        elif state==3: #self.StateNames[3]: # 'g,rb'\n",
    "            return [put_acts[2]] + [take_acts[1]] + ask_acts + check\n",
    "        elif state==4: #self.StateNames[4]: # 'g,br'\n",
    "            return [put_acts[3]] + [take_acts[4]] + ask_acts + check\n",
    "        elif state==5: #self.StateNames[5]: # 'b,rg'\n",
    "            return [put_acts[4]] + [take_acts[0]] + ask_acts + check\n",
    "        elif state==6: #self.StateNames[6]: # 'b,gr'\n",
    "            return [put_acts[5]] + [take_acts[2]] + ask_acts + check\n",
    "        elif state==7: #self.StateNames[7]: # 'rgb'\n",
    "            return [take_acts[0]] + ask_acts + check\n",
    "        elif state==8: #self.StateNames[8]: # 'rbg'\n",
    "            return [take_acts[1]] + ask_acts + check\n",
    "        elif state==9: #self.StateNames[9]: # 'grb'\n",
    "            return [take_acts[2]] + ask_acts + check\n",
    "        elif state==10: #self.StateNames[10]: # 'gbr'\n",
    "            return [take_acts[3]] + ask_acts + check\n",
    "        elif state==11: #self.StateNames[11]: # 'brg'\n",
    "            return [take_acts[4]] + ask_acts + check\n",
    "        elif state==12: #self.StateNames[12]: # 'bgr'\n",
    "            return [take_acts[5]] + ask_acts + check\n",
    "        else:\n",
    "            raise Exception(\"in legal_actions_state method, can't have a state besides the 13 allowed. State name is \",state)\n",
    "            \n",
    "    # this is wrong but fine\n",
    "    def legal_actions(self,history):\n",
    "        put_acts = [[0,'r','g'],[0,'r','b'],[0,'g','r'],[0,'g','b'],[0,'b','r'],[0,'b','g']]\n",
    "        take_acts = [[1,'r','g'],[1,'r','b'],[1,'g','r'],[1,'g','b'],[1,'b','r'],[1,'b','g']]\n",
    "        ask_acts = [[2,'r','g'],[2,'r','b'],[2,'g','r'],[2,'g','b'],[2,'b','r'],[2,'b','g']]\n",
    "        check = [3] # submit for checking if correct\n",
    "        return put_acts + take_acts + ask_acts + check\n",
    "            \n",
    "    def G_model(self,state,action):\n",
    "        s = self.next_state(state,action)\n",
    "        obs = self.observation(state,action)\n",
    "        rwd, done = self.reward(state,action) # note that this should be more like immediate reward of state, not long-term?\n",
    "        return s, obs, rwd, done\n",
    "    \n",
    "    # prior might be different on a given trial! come up with ways to manipulate this\n",
    "    def sample_prior(self):\n",
    "        return np.random.randint(13)\n",
    "    \n",
    "#     # i need to know what action \"real_obs\" was said yes or no to\n",
    "#     def keep_particle(self, part, action, real_obs):\n",
    "#         if real_obs == []:\n",
    "#             return True\n",
    "#         if self.Observation(part,action) == real_obs: # e.g., if real_obs consistent with obs function on this particle,\n",
    "#             return True # good particle\n",
    "#         else:\n",
    "#             return False # bad particle because doesn't match what we see\n",
    "        \n",
    "#     # generate a new particle from one randomly sampled from current belief (e.g., could add a lil noise if desired)\n",
    "#     def new_particle(self, part):\n",
    "#         return self.sample_prior() # idk nothing fancy here yet\n",
    "\n",
    "    def print_state(self,state):\n",
    "        print(self.StateNames[state])\n",
    "        return\n",
    "        \n",
    "        "
   ]
  },
  {
   "cell_type": "code",
   "execution_count": 5,
   "metadata": {
    "collapsed": true
   },
   "outputs": [],
   "source": [
    "class SearchTree(object):\n",
    "    def __init__(self,visits=1,value=0):\n",
    "        self.visits = visits\n",
    "        self.value = value\n",
    "        self.children=[]\n",
    "        \n",
    "        \n",
    "class ActionNode(SearchTree):\n",
    "    def __init__(self,action=None,visits=1,value=0):\n",
    "        super().__init__(visits,value)\n",
    "        self.action = action\n",
    "        \n",
    "        \n",
    "class ObservationNode(SearchTree):\n",
    "    def __init__(self,observation=[],visits=1,value=0,belief=[]):\n",
    "        super().__init__(visits,value)\n",
    "        self.observation = observation\n",
    "        self.belief = belief\n",
    "        \n",
    "    def expand(self, legal_actions):\n",
    "        for a in legal_actions:\n",
    "            self.children += [ActionNode(a)]\n",
    "            \n",
    "        # upper confidence bound value for given node \"child\"\n",
    "    def ucb(self, child): #maybe use index of child not object\n",
    "#         print(\"self.visit=\",self.visit,\" len of self.children=\",len(self.children))\n",
    "        logval = math.log(self.visits) #, len(self.children))\n",
    "        div = logval / child.visits\n",
    "        return math.sqrt(div)\n",
    "    \n",
    "    def next_hist(self,action,obs):\n",
    "        act_child = next((c for c in self.children if c.action==action), None)\n",
    "        assert act_child != None, \"shouldn't you be expanded already?\"\n",
    "        assert isinstance(act_child, ActionNode), \"action child should be an action node!\"\n",
    "        \n",
    "        obs_child = next((c for c in act_child.children if c.observation == obs), None) \n",
    "        if obs_child is None:\n",
    "            act_child.children += [ObservationNode(obs)]\n",
    "#             print(act_child.children[0].observation)\n",
    "            obs_child = next((c for c in act_child.children if c.observation == obs), None)     \n",
    "        return obs_child"
   ]
  },
  {
   "cell_type": "code",
   "execution_count": 6,
   "metadata": {
    "collapsed": true
   },
   "outputs": [],
   "source": [
    "class POMCP:\n",
    "    def __init__(self, \n",
    "                 game=BlockGame('rgb'),\n",
    "                 discount=0.8,\n",
    "                 explore=1,\n",
    "                 epsilon=1e-7,\n",
    "                 n_particles=100,\n",
    "                 **kwargs):\n",
    "        \n",
    "#         self.context = {}\n",
    "        self.game = game\n",
    "        self.discount = discount\n",
    "        self.epsilon = epsilon\n",
    "        self.explore = explore\n",
    "        self.n_particles = n_particles\n",
    "        self.G = game.G_model      \n",
    "        self.tree = [] #ObservationNode([]) \n",
    "        self.history = []\n",
    "        # list of all possible actions\n",
    "#         self.actions = kwargs.get('actions') \n",
    "        \n",
    "        seconds = kwargs.get('time',30)\n",
    "        self.calculation_time = datetime.timedelta(seconds=seconds)\n",
    "        self.maxdepth = kwargs.get('maxdepth',20)\n",
    "        self.nsims = kwargs.get('nsims',1000)\n",
    "        \n",
    "    def search(self,obs):\n",
    "        \n",
    "        self.history += [obs]\n",
    "        \n",
    "        if self.tree == []:\n",
    "            print(\"tree is none\")\n",
    "            self.tree = ObservationNode(obs)                        \n",
    "#             particle = self.game.sample_prior()\n",
    "#             self.simulate(particle,self.tree,0)\n",
    "        else:\n",
    "            self.prune_tree(obs)\n",
    "#         self.prune_tree(obs)\n",
    "            \n",
    "        assert self.tree != None, \"How can you still be none?\"\n",
    "            \n",
    "            \n",
    "        plt.hist(self.tree.belief,bins='auto')\n",
    "        plt.show()\n",
    "        \n",
    "        for _ in range(self.nsims):\n",
    "            particle = self.draw_sample()\n",
    "            self.simulate(particle,self.tree,0)\n",
    "        \n",
    "        child = self.greedy_action_selection(self.tree,self.game.legal_actions(self.tree)) # will again need to handle legal actions differently for real\n",
    "        self.tree = child # move forward to child action node (will move to obs node when real obs occurs)\n",
    "        self.history += [child.action]\n",
    "        \n",
    "        return child.action\n",
    "    \n",
    "    def simulate(self,state,tree,depth):\n",
    "        if depth >= self.maxdepth:\n",
    "            return 0\n",
    "        \n",
    "#         legal = self.game.legal_actions(state,tree,depth)\n",
    "        legal = self.game.legal_actions(tree) # would want it to be more elegant/complicated for real\n",
    "    \n",
    "        if len(tree.children) == 0:\n",
    "            tree.expand(legal)\n",
    "            return self.rollout(state,depth)\n",
    "        \n",
    "        if len(legal)==1:\n",
    "            action = legal[0]\n",
    "            child = tree.children[0]\n",
    "        else:\n",
    "            child = self.ucb_action_selection(tree,legal)\n",
    "            action = child.action\n",
    "        \n",
    "        \n",
    "        next_state, next_obs, r, done = self.G(state,action)\n",
    "        next_tree = tree.next_hist(action,next_obs)\n",
    "        reward = r + self.discount * self.simulate(next_state,next_tree,depth+1)\n",
    "        \n",
    "        tree.belief += [state] \n",
    "        tree.visits += 1\n",
    "        \n",
    "        child.visits += 1\n",
    "        child.value += (reward - child.value)/child.visits\n",
    "        \n",
    "        return reward\n",
    "    \n",
    "    def rollout(self,state,depth):\n",
    "        if depth >= self.maxdepth:\n",
    "            return 0\n",
    "        \n",
    "        legal = self.game.legal_actions([\"whatever but change this later\"])\n",
    "        a = random.choice(legal)\n",
    "        \n",
    "        next_state, next_obs, r, done = self.G(state,a)\n",
    "#         next_tree = tree.next_hist(a,next_obs)\n",
    "        \n",
    "        if done:\n",
    "            return r\n",
    "        \n",
    "        return r + self.discount * self.rollout(next_state,depth+1)\n",
    "        \n",
    "    def prune_tree(self,obs):\n",
    "        #current tree is an action node. find child node with observation obs\n",
    "        obs_child = next((c for c in self.tree.children if c.observation == obs), ObservationNode(obs)) # oh yes here is the nuisance\n",
    "        self.tree = obs_child\n",
    "        return\n",
    "        \n",
    "    def greedy_action_selection(self,tree,legal):\n",
    "        children = [child for child in tree.children if child.action in legal] #filter(lambda child: child.action in legal_actions, tree.children)\n",
    "        child_vals = np.array([child.value for child in children])\n",
    "        favechildren = np.argwhere(child_vals == np.amax(child_vals))\n",
    "        child = children[random.choice(favechildren.flatten().tolist())]\n",
    "        return child\n",
    "        \n",
    "    def ucb_action_selection(self,tree,legal):\n",
    "        children = [child for child in tree.children if child.action in legal] #filter(lambda child: child.action in legal_actions, tree.children)\n",
    "        child_vals = np.array([child.value + self.explore * tree.ucb(child) for child in children])\n",
    "        favechildren = np.argwhere(child_vals == np.amax(child_vals))\n",
    "        child = children[random.choice(favechildren.flatten().tolist())]\n",
    "        return child\n",
    "    \n",
    "    def draw_sample(self):\n",
    "        if self.tree.belief == []:\n",
    "            return self.game.sample_prior()\n",
    "        else:\n",
    "            return random.choice(self.tree.belief)"
   ]
  },
  {
   "cell_type": "code",
   "execution_count": 7,
   "metadata": {
    "collapsed": true
   },
   "outputs": [],
   "source": [
    "s = 0\n",
    "game = BlockGame('rgb')\n",
    "agent = POMCP(game, 0.9, maxdepth=20, nsims=1000)"
   ]
  },
  {
   "cell_type": "code",
   "execution_count": 13,
   "metadata": {},
   "outputs": [
    {
     "name": "stdout",
     "output_type": "stream",
     "text": [
      "INITIAL STATE: \n",
      "0 r,g,b\n"
     ]
    },
    {
     "data": {
      "image/png": "[encoded data removed]",
      "text/plain": [
       "<matplotlib.figure.Figure at 0x108c25400>"
      ]
     },
     "metadata": {},
     "output_type": "display_data"
    },
    {
     "name": "stdout",
     "output_type": "stream",
     "text": [
      "Taking action: 3\n",
      "Moving to state: 0\n"
     ]
    },
    {
     "data": {
      "text/plain": [
       "(-80, True)"
      ]
     },
     "execution_count": 13,
     "metadata": {},
     "output_type": "execute_result"
    }
   ],
   "source": [
    "# Check that the tree runs simulations to choose the next action\n",
    "\n",
    "print(\"INITIAL STATE: \")\n",
    "print(str(s)+' '+game.StateNames[s]) # initial block game state\n",
    "\n",
    "\n",
    "obs = []\n",
    "\n",
    "action = agent.search(obs)\n",
    "print(\"Taking action:\", action)\n",
    "state = game.next_state(s,action)\n",
    "print(\"Moving to state:\", state)\n",
    "game.reward(s,action)"
   ]
  },
  {
   "cell_type": "code",
   "execution_count": 84,
   "metadata": {},
   "outputs": [
    {
     "data": {
      "image/png": "[encoded data removed]",
      "text/plain": [
       "<matplotlib.figure.Figure at 0x1051ed668>"
      ]
     },
     "metadata": {},
     "output_type": "display_data"
    },
    {
     "name": "stdout",
     "output_type": "stream",
     "text": [
      "Taking action: [2, 'b', 'g']\n",
      "Moving to state: 0\n"
     ]
    }
   ],
   "source": [
    "obs = game.observation(state,action)\n",
    "action = agent.search(obs)\n",
    "print(\"Taking action:\", action)\n",
    "r = game.reward(state,action)\n",
    "state = game.next_state(state,action)\n",
    "print(\"Moving to state:\", state)\n"
   ]
  },
  {
   "cell_type": "code",
   "execution_count": 11,
   "metadata": {
    "scrolled": true
   },
   "outputs": [
    {
     "name": "stdout",
     "output_type": "stream",
     "text": [
      "INITIAL STATE: \n",
      "0 r,g,b\n",
      "TARGET: \n",
      "['rgb', 'rbg', 'grb', 'gbr', 'brg', 'bgr']\n",
      "tree is none\n"
     ]
    },
    {
     "data": {
      "image/png": "[encoded data removed]",
      "text/plain": [
       "<matplotlib.figure.Figure at 0x1048435c0>"
      ]
     },
     "metadata": {},
     "output_type": "display_data"
    },
    {
     "name": "stdout",
     "output_type": "stream",
     "text": [
      "Action 1: True state is 0, r,g,b\n",
      "Taking action 3.\n",
      "game over!\n",
      "total reward:  -80\n"
     ]
    },
    {
     "data": {
      "image/png": "[encoded data removed]",
      "text/plain": [
       "<matplotlib.figure.Figure at 0x10487acf8>"
      ]
     },
     "metadata": {},
     "output_type": "display_data"
    }
   ],
   "source": [
    "# if 'game' in locals():\n",
    "#     del game\n",
    "# if 'agent' in locals():\n",
    "# #     del agent\n",
    "del game\n",
    "del agent\n",
    "\n",
    "s = 0\n",
    "target = ['rgb','rbg','grb','gbr','brg','bgr']\n",
    "game = BlockGame(target)\n",
    "\n",
    "c = 1\n",
    "\n",
    "print(\"INITIAL STATE: \")\n",
    "print(str(s)+' '+game.StateNames[s]) # initial tiger state\n",
    "print(\"TARGET: \")\n",
    "print(target)\n",
    "\n",
    "agent = POMCP(game, 0.9, c, maxdepth=10, nsims=10000)\n",
    "\n",
    "action_seq = []\n",
    "state = s\n",
    "obs = []\n",
    "R = 0\n",
    "\n",
    "\n",
    "while len(action_seq) <= 20: # play for a certain amount of time (better rule?)\n",
    "\n",
    "    action = agent.search(obs)\n",
    "    action_seq.append(action)\n",
    "    print('Action %i: True state is %s, %s'% (len(action_seq), state, game.StateNames[state]))\n",
    "    print(\"Taking action %s.\"% action)\n",
    "    \n",
    "    obs = game.observation(state,action)\n",
    "    if obs!=[]:\n",
    "        print(\"observed \",obs)\n",
    "\n",
    "    r,done = game.reward(state,action)\n",
    "    if done:\n",
    "        R=R+r\n",
    "        break\n",
    "    R = R + r\n",
    "    print(\"Reward so far: \",R)    \n",
    "    \n",
    "    state = game.next_state(state,action)\n",
    "    \n",
    "\n",
    "\n",
    "print(\"game over!\")\n",
    "print('total reward: ', R)\n",
    "plt.hist(agent.tree.children[0].belief,bins='auto')\n",
    "plt.show()"
   ]
  },
  {
   "cell_type": "code",
   "execution_count": 6,
   "metadata": {
    "scrolled": true
   },
   "outputs": [
    {
     "name": "stdout",
     "output_type": "stream",
     "text": [
      "action:  [0, 'r', 'g']\n",
      "value:  0\n",
      "action:  [0, 'r', 'b']\n",
      "value:  0\n",
      "action:  [0, 'g', 'r']\n",
      "value:  0\n",
      "action:  [0, 'g', 'b']\n",
      "value:  0\n",
      "action:  [0, 'b', 'r']\n",
      "value:  0\n",
      "action:  [0, 'b', 'g']\n",
      "value:  0\n",
      "action:  [1, 'r', 'g']\n",
      "value:  0\n",
      "action:  [1, 'r', 'b']\n",
      "value:  0\n",
      "action:  [1, 'g', 'r']\n",
      "value:  0\n",
      "action:  [1, 'g', 'b']\n",
      "value:  0\n",
      "action:  [1, 'b', 'r']\n",
      "value:  0\n",
      "action:  [1, 'b', 'g']\n",
      "value:  0\n",
      "action:  [2, 'r', 'g']\n",
      "value:  0\n",
      "action:  [2, 'r', 'b']\n",
      "value:  0\n",
      "action:  [2, 'g', 'r']\n",
      "value:  0\n",
      "action:  [2, 'g', 'b']\n",
      "value:  0\n",
      "action:  [2, 'b', 'r']\n",
      "value:  0\n",
      "action:  [2, 'b', 'g']\n",
      "value:  0\n",
      "action:  3\n",
      "value:  547.1450547967871\n"
     ]
    }
   ],
   "source": [
    "for i in agent.tree.children[0].children:\n",
    "    print(\"action: \",i.action)#agent.tree.children[0].children[i].action)\n",
    "    print(\"value: \",i.value)#agent.tree.children[0].children[i].value)"
   ]
  },
  {
   "cell_type": "code",
   "execution_count": 64,
   "metadata": {},
   "outputs": [
    {
     "data": {
      "text/plain": [
       "2"
      ]
     },
     "execution_count": 64,
     "metadata": {},
     "output_type": "execute_result"
    }
   ],
   "source": [
    "game.next_state(0,[0,'b','g'])"
   ]
  },
  {
   "cell_type": "code",
   "execution_count": 30,
   "metadata": {},
   "outputs": [
    {
     "data": {
      "text/plain": [
       "[[0, 'b', 'r'],\n",
       " [1, 'r', 'g'],\n",
       " [2, 'r', 'g'],\n",
       " [2, 'r', 'b'],\n",
       " [2, 'g', 'r'],\n",
       " [2, 'g', 'b'],\n",
       " [2, 'b', 'r'],\n",
       " [2, 'b', 'g'],\n",
       " 3]"
      ]
     },
     "execution_count": 30,
     "metadata": {},
     "output_type": "execute_result"
    }
   ],
   "source": [
    "put_acts = [[0,'r','g'],[0,'r','b'],[0,'g','r'],[0,'g','b'],[0,'b','r'],[0,'b','g']]\n",
    "take_acts = [[1,'r','g'],[1,'r','b'],[1,'g','r'],[1,'g','b'],[1,'b','r'],[1,'b','g']]\n",
    "ask_acts = [[2,'r','g'],[2,'r','b'],[2,'g','r'],[2,'g','b'],[2,'b','r'],[2,'b','g']]\n",
    "check = [3] # submit for checking if correct\n",
    "legal = [put_acts[4]] + [take_acts[0]] + ask_acts + check\n",
    "legal"
   ]
  },
  {
   "cell_type": "code",
   "execution_count": 75,
   "metadata": {},
   "outputs": [
    {
     "data": {
      "text/plain": [
       "1"
      ]
     },
     "execution_count": 75,
     "metadata": {},
     "output_type": "execute_result"
    }
   ],
   "source": [
    "s = 'rgb'\n",
    "x=2\n",
    "y=3\n",
    "game.StateNames.index(s[0] + ',' + s[1:])"
   ]
  },
  {
   "cell_type": "code",
   "execution_count": 78,
   "metadata": {},
   "outputs": [
    {
     "data": {
      "text/plain": [
       "10"
      ]
     },
     "execution_count": 78,
     "metadata": {},
     "output_type": "execute_result"
    }
   ],
   "source": [
    "np.random.randint(13)"
   ]
  },
  {
   "cell_type": "code",
   "execution_count": 31,
   "metadata": {},
   "outputs": [
    {
     "data": {
      "image/png": "[encoded data removed]",
      "text/plain": [
       "<matplotlib.figure.Figure at 0x102342ac8>"
      ]
     },
     "metadata": {},
     "output_type": "display_data"
    }
   ],
   "source": [
    "plt.hist(np.random.randint(13, size=10000),bins=13)\n",
    "plt.show()"
   ]
  },
  {
   "cell_type": "code",
   "execution_count": 18,
   "metadata": {},
   "outputs": [
    {
     "data": {
      "image/png": "[encoded data removed]",
      "text/plain": [
       "<matplotlib.figure.Figure at 0x1056ec048>"
      ]
     },
     "metadata": {},
     "output_type": "display_data"
    }
   ],
   "source": [
    "import matplotlib.pyplot as plt\n",
    "rng = np.random.RandomState(10)  # deterministic random data\n",
    "a = np.hstack((rng.normal(size=1000),\n",
    "               rng.normal(loc=5, scale=2, size=1000)))\n",
    "plt.hist(a, bins='auto')  # arguments are passed to np.histogram\n",
    "plt.title(\"Histogram with 'auto' bins\")\n",
    "plt.show()"
   ]
  },
  {
   "cell_type": "code",
   "execution_count": 19,
   "metadata": {},
   "outputs": [
    {
     "ename": "IndentationError",
     "evalue": "expected an indented block (<ipython-input-19-1c8266003346>, line 7)",
     "output_type": "error",
     "traceback": [
      "\u001b[0;36m  File \u001b[0;32m\"<ipython-input-19-1c8266003346>\"\u001b[0;36m, line \u001b[0;32m7\u001b[0m\n\u001b[0;31m    val = val + gamma*get_value(a,t-1,prior,gamma)\u001b[0m\n\u001b[0m      ^\u001b[0m\n\u001b[0;31mIndentationError\u001b[0m\u001b[0;31m:\u001b[0m expected an indented block\n"
     ]
    }
   ],
   "source": [
    "# can i do a value iteration algorithm for POMDP?\n",
    "\n",
    "# lol no \n",
    "def get_value(a,t,prior,gamma):\n",
    "    if t==1:\n",
    "        \n",
    "    val = val + gamma*get_value(a,t-1,prior,gamma)\n",
    "    return "
   ]
  },
  {
   "cell_type": "code",
   "execution_count": null,
   "metadata": {
    "collapsed": true
   },
   "outputs": [],
   "source": []
  },
  {
   "cell_type": "code",
   "execution_count": null,
   "metadata": {
    "collapsed": true
   },
   "outputs": [],
   "source": []
  }
 ],
 "metadata": {
  "kernelspec": {
   "display_name": "Python 3",
   "language": "python",
   "name": "python3"
  },
  "language_info": {
   "codemirror_mode": {
    "name": "ipython",
    "version": 3
   },
   "file_extension": ".py",
   "mimetype": "text/x-python",
   "name": "python",
   "nbconvert_exporter": "python",
   "pygments_lexer": "ipython3",
   "version": "3.6.3"
  }
 },
 "nbformat": 4,
 "nbformat_minor": 2
}
