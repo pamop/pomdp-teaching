{
 "cells": [
  {
   "cell_type": "markdown",
   "metadata": {},
   "source": [
    "# Introduction to POMDPs\n",
    "  \n",
    "pam osborn popp pamop@nyu.edu   \n",
    "feb 2018  \n",
    "\n",
    "##### rough outline:\n",
    "1. MDP vs. POMDP vs. HMM\n",
    "    - little chart of markov chain, MDP, POMDP, HMM\n",
    "2. How we visualize POMDP solutions\n",
    "    - belief spaces associated with actions \n",
    "3. Examples\n",
    "    - Tiger Problem\n",
    "        - Problem description (states, actions, observations, cost/rwd function)\n",
    "        - POMDP solution via value iteration (what solver to use?)\n",
    "        - Simulation of trained model performing the task\n",
    "    - Simple Teaching Problem\n",
    "4. How POMDPs might be useful/necessary in the HMM project\n",
    "    - Discussion of \"Faster teaching via POMDP planning\" Rafferty et al 2016 ?"
   ]
  },
  {
   "attachments": {},
   "cell_type": "markdown",
   "metadata": {},
   "source": [
    "## MDP vs. POMDP vs. HMM\n",
    "\n",
    "As Anthony Cassandra at www.pomdp.org puts it,\n",
    "\n",
    "<img src = \"imgs/markov-comparison-cassandra.png\" alt=\"pomdp.org/faq.html\" style=\"width: 600px;\"/>\n",
    "\n",
    "\n",
    "### MDP vs. POMDP\n",
    "- In an MDP, the states are completely observable\n",
    "    - At any point in time, we know the current state with 100% accuracy\n",
    "- In a POMDP, the states are partially observable\n",
    "    - We have an additional tool, \"observations,\" to provide evidence as to the possible current state\n",
    "        - I suppose we would call these \"emissions\" in the HMM\n",
    "    - We have to maintain a probability distribution over possible states (like in an HMM)\n",
    "\n",
    "### HMM vs. POMDP\n",
    "- In both, states are not directly observable\n",
    "- However, in a POMDP, we have control over the state transitions\n",
    "- Teaching = attempting to control transitions of learner's knowledge/memory states"
   ]
  },
  {
   "cell_type": "code",
   "execution_count": null,
   "metadata": {},
   "outputs": [],
   "source": []
  }
 ],
 "metadata": {
  "kernelspec": {
   "display_name": "Python 3",
   "language": "python",
   "name": "python3"
  },
  "language_info": {
   "codemirror_mode": {
    "name": "ipython",
    "version": 3
   },
   "file_extension": ".py",
   "mimetype": "text/x-python",
   "name": "python",
   "nbconvert_exporter": "python",
   "pygments_lexer": "ipython3",
   "version": "3.5.4"
  }
 },
 "nbformat": 4,
 "nbformat_minor": 2
}
