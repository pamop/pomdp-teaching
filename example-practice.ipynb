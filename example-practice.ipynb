{
 "cells": [
  {
   "cell_type": "markdown",
   "metadata": {},
   "source": [
    "# Running POMDPy examples in Jupyter notebook\n",
    "Pam Osborn Popp  \n",
    "pamop@nyu.edu  \n",
    "Feb 2018  \n",
    "\n",
    "### *pam's to-do:*\n",
    "- *Adjust valit method to use defaults when optional args are not supplied, and provide informative error messages when required args are not supplied*\n",
    "\n",
    "### PURPOSE:\n",
    "\n",
    "To give comprehensive instructions on how to set up and run the POMDPy examples in this Jupyter Notebook.\n",
    "\n",
    "### SET UP:\n",
    "###### Setting up an environment with all the proper packages to run this notebook\n",
    "\n",
    "This notebook must be run in a Python environment equipped with:\n",
    "- numpy >= 1.11\n",
    "- matplotlib >= 1.4.3\n",
    "- scipy >= 0.15.1\n",
    "- future >= 0.16\n",
    "- tensorflow >= 0.12\n",
    "\n",
    "The POMDPy library at https://github.com/pemami4911/POMDPy requires the above packages (access the link for more detail on dependencies and examples). Within the environment, the POMDPy library itself must also be installed.\n",
    "\n",
    "###### A comprehensive list of commands\n",
    "After downloading python 3 via the Anaconda distribution, the following commands are sufficient:\n",
    "\n",
    "```\n",
    "conda create -n tensorflow python=3.5 # To create the new environment\n",
    "source activate tensorflow # To enter the new environment\n",
    "easy_install -U pip # To update pip to enable use of pip3\n",
    "export TF_BINARY_URL=https://storage.googleapis.com/tensorflow/mac/cpu/tensorflow-0.12.1-py3-none-any.whl # To download tensorflow binary\n",
    "pip3 install --ignore-installed --upgrade $TF_BINARY_URL # To install tensorflow in the environment\n",
    "pip install --upgrade future # To install most recent version of future\n",
    "conda install scipy # To install scipy (can also use pip)\n",
    "conda install matplotlib # To install matplotlib\n",
    "conda install jupyter # To install jupyter\n",
    "pip install git+https://github.com/pemami4911/POMDPy.git # To install POMDPy repo\n",
    "jupyter notebook # To open jupyter notebook and run this file and others in this repository\n",
    "```\n",
    "\n",
    "To exit the tensorflow environment:\n",
    "```\n",
    "source deactivate\n",
    "```\n",
    "\n",
    "Emami, P., Hamlet, A. J., & Crane, C. D. POMDPy: An Extensible Framework for Implementing Partially-Observable Markov Decision Processes in Python."
   ]
  },
  {
   "cell_type": "markdown",
   "metadata": {},
   "source": [
    "## Verifying your tensorflow install\n",
    "\n",
    "A good thing to do before getting ahead of one's self."
   ]
  },
  {
   "cell_type": "code",
   "execution_count": 1,
   "metadata": {},
   "outputs": [
    {
     "name": "stdout",
     "output_type": "stream",
     "text": [
      "Hello, TensorFlow!\n"
     ]
    }
   ],
   "source": [
    "# Below is a cute test to verify tensorflow is installed and working properly.\n",
    "\n",
    "import tensorflow as tf\n",
    "hello = tf.constant('Hello, TensorFlow!')\n",
    "sess = tf.Session()\n",
    "print(sess.run(hello).decode())\n",
    "\n",
    "# NOTE: you can also run this test in the command line to verify your tensorflow install - \n",
    "# within the tensorflow environment, after you have pip installed the tensorflow binary,\n",
    "# enter the command \"python\" to begin running python and then enter the above lines."
   ]
  },
  {
   "cell_type": "markdown",
   "metadata": {},
   "source": [
    "## Running the \"Tiger\" POMDPy example\n",
    "\n",
    "POMDPy recommends running the following on the command line (in your environment) to run this example:\n",
    "\n",
    "```\n",
    "python vi.py --env Tiger --solver LinearAlphaNet --use_tf --n_epochs 5000 --max_steps 50 --test 5 --learning_rate 0.05 --learning_rate_decay 0.996 --learning_rate_minimum 0.00025 --learning_rate_decay_step 50 --beta 0.001 --epsilon_start 0.2 --epsilon_minimum 0.02 --epsilon_decay 0.99 --epsilon_decay_step 75 --seed 12157 --save\n",
    "```\n",
    "\n",
    "However, below we will run the example within this very notebook by slightly adjusting the vi.py function, as well as changing a few particular arguments (parameters) to the model."
   ]
  },
  {
   "cell_type": "code",
   "execution_count": 1,
   "metadata": {},
   "outputs": [],
   "source": [
    "# Tiger example\n",
    "from __future__ import print_function\n",
    "from libraries.pomdpy.pomdpy import Agent\n",
    "from libraries.pomdpy.pomdpy.solvers import ValueIteration\n",
    "from libraries.pomdpy.pomdpy.log import init_logger\n",
    "from libraries.pomdpy.examples.tiger import TigerModel\n",
    "import argparse\n",
    "import numpy as np"
   ]
  },
  {
   "cell_type": "code",
   "execution_count": 2,
   "metadata": {},
   "outputs": [],
   "source": [
    "# Value iteration function (adapted from libraries/pomdpy/vi.py which is suited for command line use)\n",
    "def valit(**args):\n",
    "# *** POP TODO ***\n",
    "# REQUIRED INPUTS:\n",
    "#     env=\"Tiger\" \n",
    "#     solver=\"LinearAlphaNet\" \n",
    "# Defaults:\n",
    "#     seed=1993\n",
    "#     use_tf=True\n",
    "#     discount=0.95\n",
    "#     n_epochs=1000\n",
    "#     max_steps=10\n",
    "#     save=False\n",
    "#     learning_rate=0.05, \n",
    "#     learning_rate_minimum=0.0025 # POP NOTE: in vi.py this is 0.0025 but in example it is 0.00025\n",
    "#     learning_rate_decay=0.996\n",
    "#     learning_rate_decay_step=50\n",
    "#     beta=0.001\n",
    "#     test=10\n",
    "#     epsilon_start=0.2 # POP NOTE: in vi.py this is 0.02 but I imagine must intend to be 0.2 as in example\n",
    "#     epsilon_minimum=0.05 # POP NOTE: in example this is 0.02\n",
    "#     epsilon_decay=0.96 # POP NOTE: in example this is 0.99\n",
    "#     epsilon_decay_step=75\n",
    "#     planning_horizon=5\n",
    "    \n",
    "    init_logger()\n",
    "\n",
    "    np.random.seed(int(args['seed']))\n",
    "\n",
    "    if args['solver'] == 'VI-Baseline':\n",
    "        from experiments.scripts import approximate_vi_eval\n",
    "\n",
    "        env = TigerModel(args)\n",
    "        solver = ValueIteration\n",
    "        agent = Agent(env, solver)\n",
    "        approximate_vi_eval.eval_baseline(args['n_epochs'], agent, args['planning_horizon'])\n",
    "\n",
    "    else:\n",
    "        if args['solver'] == 'ValueIteration':\n",
    "            solver = ValueIteration\n",
    "        elif args['use_tf'] and args['solver'] == 'LinearAlphaNet':\n",
    "            from pomdpy.solvers.linear_alpha_net import LinearAlphaNet\n",
    "            solver = LinearAlphaNet\n",
    "        else:\n",
    "            raise ValueError('solver not supported')\n",
    "\n",
    "        if args['env'] == 'Tiger':\n",
    "            env = TigerModel(args)\n",
    "            agent = Agent(env, solver)\n",
    "            agent.discounted_return()\n",
    "        else:\n",
    "            print('Unknown env {}'.format(args['env']))"
   ]
  },
  {
   "cell_type": "code",
   "execution_count": 43,
   "metadata": {
    "scrolled": false
   },
   "outputs": [
    {
     "name": "stdout",
     "output_type": "stream",
     "text": [
      "{'beta': 0.001,\n",
      " 'discount': 0.95,\n",
      " 'env': 'Tiger',\n",
      " 'epsilon_decay': 0.96,\n",
      " 'epsilon_decay_step': 75,\n",
      " 'epsilon_minimum': 0.05,\n",
      " 'epsilon_start': 0.2,\n",
      " 'learning_rate': 0.05,\n",
      " 'learning_rate_decay': 0.996,\n",
      " 'learning_rate_decay_step': 50,\n",
      " 'learning_rate_minimum': 0.0025,\n",
      " 'max_steps': 10,\n",
      " 'n_epochs': 1000,\n",
      " 'planning_horizon': 5,\n",
      " 'save': True,\n",
      " 'seed': 2000,\n",
      " 'solver': 'LinearAlphaNet',\n",
      " 'test': 10,\n",
      " 'use_tf': True}\n"
     ]
    },
    {
     "ename": "ValueError",
     "evalue": "Variable linear_fa_prediction/weights/Matrix already exists, disallowed. Did you mean to set reuse=True in VarScope? Originally defined at:\n\n  File \"/Users/pamop/anaconda3/envs/tensorflow/lib/python3.5/site-packages/pomdpy/solvers/ops.py\", line 47, in simple_linear\n    initializer)\n  File \"/Users/pamop/anaconda3/envs/tensorflow/lib/python3.5/site-packages/pomdpy/solvers/linear_alpha_net.py\", line 151, in build_linear_network\n    activation_fn=None, name='weights')\n  File \"/Users/pamop/anaconda3/envs/tensorflow/lib/python3.5/site-packages/pomdpy/solvers/linear_alpha_net.py\", line 30, in __init__\n    self.build_linear_network()\n",
     "output_type": "error",
     "traceback": [
      "\u001b[0;31m---------------------------------------------------------------------------\u001b[0m",
      "\u001b[0;31mValueError\u001b[0m                                Traceback (most recent call last)",
      "\u001b[0;32m<ipython-input-43-4bfdc021e105>\u001b[0m in \u001b[0;36m<module>\u001b[0;34m()\u001b[0m\n\u001b[0;32m----> 1\u001b[0;31m \u001b[0mvalit\u001b[0m\u001b[0;34m(\u001b[0m\u001b[0menv\u001b[0m\u001b[0;34m=\u001b[0m\u001b[0;34m\"Tiger\"\u001b[0m\u001b[0;34m,\u001b[0m \u001b[0msolver\u001b[0m\u001b[0;34m=\u001b[0m\u001b[0;34m\"LinearAlphaNet\"\u001b[0m\u001b[0;34m,\u001b[0m \u001b[0mseed\u001b[0m\u001b[0;34m=\u001b[0m\u001b[0;36m2000\u001b[0m\u001b[0;34m,\u001b[0m \u001b[0muse_tf\u001b[0m\u001b[0;34m=\u001b[0m\u001b[0;32mTrue\u001b[0m\u001b[0;34m,\u001b[0m \u001b[0mdiscount\u001b[0m\u001b[0;34m=\u001b[0m\u001b[0;36m0.95\u001b[0m\u001b[0;34m,\u001b[0m \u001b[0mn_epochs\u001b[0m\u001b[0;34m=\u001b[0m\u001b[0;36m1000\u001b[0m\u001b[0;34m,\u001b[0m \u001b[0mmax_steps\u001b[0m\u001b[0;34m=\u001b[0m\u001b[0;36m10\u001b[0m\u001b[0;34m,\u001b[0m \u001b[0msave\u001b[0m\u001b[0;34m=\u001b[0m\u001b[0;32mTrue\u001b[0m\u001b[0;34m,\u001b[0m \u001b[0mlearning_rate\u001b[0m\u001b[0;34m=\u001b[0m\u001b[0;36m0.05\u001b[0m\u001b[0;34m,\u001b[0m \u001b[0mlearning_rate_minimum\u001b[0m\u001b[0;34m=\u001b[0m\u001b[0;36m0.0025\u001b[0m\u001b[0;34m,\u001b[0m \u001b[0mlearning_rate_decay\u001b[0m\u001b[0;34m=\u001b[0m\u001b[0;36m0.996\u001b[0m\u001b[0;34m,\u001b[0m \u001b[0mlearning_rate_decay_step\u001b[0m\u001b[0;34m=\u001b[0m\u001b[0;36m50\u001b[0m\u001b[0;34m,\u001b[0m\u001b[0mbeta\u001b[0m\u001b[0;34m=\u001b[0m\u001b[0;36m0.001\u001b[0m\u001b[0;34m,\u001b[0m \u001b[0mtest\u001b[0m\u001b[0;34m=\u001b[0m\u001b[0;36m10\u001b[0m\u001b[0;34m,\u001b[0m \u001b[0mepsilon_start\u001b[0m\u001b[0;34m=\u001b[0m\u001b[0;36m0.2\u001b[0m\u001b[0;34m,\u001b[0m \u001b[0mepsilon_minimum\u001b[0m\u001b[0;34m=\u001b[0m\u001b[0;36m0.05\u001b[0m\u001b[0;34m,\u001b[0m \u001b[0mepsilon_decay\u001b[0m\u001b[0;34m=\u001b[0m\u001b[0;36m0.96\u001b[0m\u001b[0;34m,\u001b[0m \u001b[0mepsilon_decay_step\u001b[0m\u001b[0;34m=\u001b[0m\u001b[0;36m75\u001b[0m\u001b[0;34m,\u001b[0m \u001b[0mplanning_horizon\u001b[0m\u001b[0;34m=\u001b[0m\u001b[0;36m5\u001b[0m\u001b[0;34m)\u001b[0m\u001b[0;34m\u001b[0m\u001b[0m\n\u001b[0m",
      "\u001b[0;32m<ipython-input-2-28b39bb3aeed>\u001b[0m in \u001b[0;36mvalit\u001b[0;34m(**args)\u001b[0m\n\u001b[1;32m     48\u001b[0m             \u001b[0menv\u001b[0m \u001b[0;34m=\u001b[0m \u001b[0mTigerModel\u001b[0m\u001b[0;34m(\u001b[0m\u001b[0margs\u001b[0m\u001b[0;34m)\u001b[0m\u001b[0;34m\u001b[0m\u001b[0m\n\u001b[1;32m     49\u001b[0m             \u001b[0magent\u001b[0m \u001b[0;34m=\u001b[0m \u001b[0mAgent\u001b[0m\u001b[0;34m(\u001b[0m\u001b[0menv\u001b[0m\u001b[0;34m,\u001b[0m \u001b[0msolver\u001b[0m\u001b[0;34m)\u001b[0m\u001b[0;34m\u001b[0m\u001b[0m\n\u001b[0;32m---> 50\u001b[0;31m             \u001b[0magent\u001b[0m\u001b[0;34m.\u001b[0m\u001b[0mdiscounted_return\u001b[0m\u001b[0;34m(\u001b[0m\u001b[0;34m)\u001b[0m\u001b[0;34m\u001b[0m\u001b[0m\n\u001b[0m\u001b[1;32m     51\u001b[0m         \u001b[0;32melse\u001b[0m\u001b[0;34m:\u001b[0m\u001b[0;34m\u001b[0m\u001b[0m\n\u001b[1;32m     52\u001b[0m             \u001b[0mprint\u001b[0m\u001b[0;34m(\u001b[0m\u001b[0;34m'Unknown env {}'\u001b[0m\u001b[0;34m.\u001b[0m\u001b[0mformat\u001b[0m\u001b[0;34m(\u001b[0m\u001b[0margs\u001b[0m\u001b[0;34m[\u001b[0m\u001b[0;34m'env'\u001b[0m\u001b[0;34m]\u001b[0m\u001b[0;34m)\u001b[0m\u001b[0;34m)\u001b[0m\u001b[0;34m\u001b[0m\u001b[0m\n",
      "\u001b[0;32m~/Documents/projects/mnemory/pomdp-teaching/libraries/pomdpy/pomdpy/agent.py\u001b[0m in \u001b[0;36mdiscounted_return\u001b[0;34m(self)\u001b[0m\n\u001b[1;32m     48\u001b[0m             \u001b[0mself\u001b[0m\u001b[0;34m.\u001b[0m\u001b[0mmulti_epoch\u001b[0m\u001b[0;34m(\u001b[0m\u001b[0;34m)\u001b[0m\u001b[0;34m\u001b[0m\u001b[0m\n\u001b[1;32m     49\u001b[0m         \u001b[0;32melse\u001b[0m\u001b[0;34m:\u001b[0m\u001b[0;34m\u001b[0m\u001b[0m\n\u001b[0;32m---> 50\u001b[0;31m             \u001b[0mself\u001b[0m\u001b[0;34m.\u001b[0m\u001b[0mmulti_epoch_tf\u001b[0m\u001b[0;34m(\u001b[0m\u001b[0;34m)\u001b[0m\u001b[0;34m\u001b[0m\u001b[0m\n\u001b[0m\u001b[1;32m     51\u001b[0m \u001b[0;34m\u001b[0m\u001b[0m\n\u001b[1;32m     52\u001b[0m         \u001b[0mprint\u001b[0m\u001b[0;34m(\u001b[0m\u001b[0;34m'\\n'\u001b[0m\u001b[0;34m)\u001b[0m\u001b[0;34m\u001b[0m\u001b[0m\n",
      "\u001b[0;32m~/Documents/projects/mnemory/pomdp-teaching/libraries/pomdpy/pomdpy/agent.py\u001b[0m in \u001b[0;36mmulti_epoch_tf\u001b[0;34m(self)\u001b[0m\n\u001b[1;32m     71\u001b[0m \u001b[0;34m\u001b[0m\u001b[0m\n\u001b[1;32m     72\u001b[0m         \u001b[0;32mwith\u001b[0m \u001b[0mtf\u001b[0m\u001b[0;34m.\u001b[0m\u001b[0mSession\u001b[0m\u001b[0;34m(\u001b[0m\u001b[0;34m)\u001b[0m \u001b[0;32mas\u001b[0m \u001b[0msess\u001b[0m\u001b[0;34m:\u001b[0m\u001b[0;34m\u001b[0m\u001b[0m\n\u001b[0;32m---> 73\u001b[0;31m             \u001b[0msolver\u001b[0m \u001b[0;34m=\u001b[0m \u001b[0mself\u001b[0m\u001b[0;34m.\u001b[0m\u001b[0msolver_factory\u001b[0m\u001b[0;34m(\u001b[0m\u001b[0mself\u001b[0m\u001b[0;34m,\u001b[0m \u001b[0msess\u001b[0m\u001b[0;34m)\u001b[0m\u001b[0;34m\u001b[0m\u001b[0m\n\u001b[0m\u001b[1;32m     74\u001b[0m \u001b[0;34m\u001b[0m\u001b[0m\n\u001b[1;32m     75\u001b[0m             \u001b[0;32mfor\u001b[0m \u001b[0mepoch\u001b[0m \u001b[0;32min\u001b[0m \u001b[0mrange\u001b[0m\u001b[0;34m(\u001b[0m\u001b[0mself\u001b[0m\u001b[0;34m.\u001b[0m\u001b[0mmodel\u001b[0m\u001b[0;34m.\u001b[0m\u001b[0mn_epochs\u001b[0m \u001b[0;34m+\u001b[0m \u001b[0;36m1\u001b[0m\u001b[0;34m)\u001b[0m\u001b[0;34m:\u001b[0m\u001b[0;34m\u001b[0m\u001b[0m\n",
      "\u001b[0;32m~/anaconda3/envs/tensorflow/lib/python3.5/site-packages/pomdpy/solvers/linear_alpha_net.py\u001b[0m in \u001b[0;36mreset\u001b[0;34m(agent, sess)\u001b[0m\n\u001b[1;32m     39\u001b[0m     \u001b[0;34m@\u001b[0m\u001b[0mstaticmethod\u001b[0m\u001b[0;34m\u001b[0m\u001b[0m\n\u001b[1;32m     40\u001b[0m     \u001b[0;32mdef\u001b[0m \u001b[0mreset\u001b[0m\u001b[0;34m(\u001b[0m\u001b[0magent\u001b[0m\u001b[0;34m,\u001b[0m \u001b[0msess\u001b[0m\u001b[0;34m)\u001b[0m\u001b[0;34m:\u001b[0m\u001b[0;34m\u001b[0m\u001b[0m\n\u001b[0;32m---> 41\u001b[0;31m         \u001b[0;32mreturn\u001b[0m \u001b[0mLinearAlphaNet\u001b[0m\u001b[0;34m(\u001b[0m\u001b[0magent\u001b[0m\u001b[0;34m,\u001b[0m \u001b[0msess\u001b[0m\u001b[0;34m)\u001b[0m\u001b[0;34m\u001b[0m\u001b[0m\n\u001b[0m\u001b[1;32m     42\u001b[0m \u001b[0;34m\u001b[0m\u001b[0m\n\u001b[1;32m     43\u001b[0m     \u001b[0;32mdef\u001b[0m \u001b[0mtrain\u001b[0m\u001b[0;34m(\u001b[0m\u001b[0mself\u001b[0m\u001b[0;34m,\u001b[0m \u001b[0mepoch\u001b[0m\u001b[0;34m)\u001b[0m\u001b[0;34m:\u001b[0m\u001b[0;34m\u001b[0m\u001b[0m\n",
      "\u001b[0;32m~/anaconda3/envs/tensorflow/lib/python3.5/site-packages/pomdpy/solvers/linear_alpha_net.py\u001b[0m in \u001b[0;36m__init__\u001b[0;34m(self, agent, sess)\u001b[0m\n\u001b[1;32m     28\u001b[0m         \u001b[0mself\u001b[0m\u001b[0;34m.\u001b[0m\u001b[0mw_assign_op\u001b[0m \u001b[0;34m=\u001b[0m \u001b[0;34m{\u001b[0m\u001b[0;34m}\u001b[0m\u001b[0;34m\u001b[0m\u001b[0m\n\u001b[1;32m     29\u001b[0m \u001b[0;34m\u001b[0m\u001b[0m\n\u001b[0;32m---> 30\u001b[0;31m         \u001b[0mself\u001b[0m\u001b[0;34m.\u001b[0m\u001b[0mbuild_linear_network\u001b[0m\u001b[0;34m(\u001b[0m\u001b[0;34m)\u001b[0m\u001b[0;34m\u001b[0m\u001b[0m\n\u001b[0m\u001b[1;32m     31\u001b[0m \u001b[0;34m\u001b[0m\u001b[0m\n\u001b[1;32m     32\u001b[0m         \u001b[0;32mwith\u001b[0m \u001b[0mtf\u001b[0m\u001b[0;34m.\u001b[0m\u001b[0mvariable_scope\u001b[0m\u001b[0;34m(\u001b[0m\u001b[0;34m'step'\u001b[0m\u001b[0;34m)\u001b[0m\u001b[0;34m:\u001b[0m\u001b[0;34m\u001b[0m\u001b[0m\n",
      "\u001b[0;32m~/anaconda3/envs/tensorflow/lib/python3.5/site-packages/pomdpy/solvers/linear_alpha_net.py\u001b[0m in \u001b[0;36mbuild_linear_network\u001b[0;34m(self)\u001b[0m\n\u001b[1;32m    149\u001b[0m                                                                self.model.num_actions], name='input')\n\u001b[1;32m    150\u001b[0m                 self.ops['l1_out'], self.w['l1_w'], self.w['l1_b'] = simple_linear(self.ops['l0_in'],\n\u001b[0;32m--> 151\u001b[0;31m                                                                                    activation_fn=None, name='weights')\n\u001b[0m\u001b[1;32m    152\u001b[0m \u001b[0;34m\u001b[0m\u001b[0m\n\u001b[1;32m    153\u001b[0m                 self.ops['l1_out'] = tf.reshape(self.ops['l1_out'], [self.model.num_actions,\n",
      "\u001b[0;32m~/anaconda3/envs/tensorflow/lib/python3.5/site-packages/pomdpy/solvers/ops.py\u001b[0m in \u001b[0;36msimple_linear\u001b[0;34m(input_, initializer, bias_start, activation_fn, name)\u001b[0m\n\u001b[1;32m     45\u001b[0m     \u001b[0;32mwith\u001b[0m \u001b[0mtf\u001b[0m\u001b[0;34m.\u001b[0m\u001b[0mvariable_scope\u001b[0m\u001b[0;34m(\u001b[0m\u001b[0mname\u001b[0m\u001b[0;34m)\u001b[0m\u001b[0;34m:\u001b[0m\u001b[0;34m\u001b[0m\u001b[0m\n\u001b[1;32m     46\u001b[0m         w = tf.get_variable('Matrix', input_.get_shape(), tf.float32,\n\u001b[0;32m---> 47\u001b[0;31m                             initializer)\n\u001b[0m\u001b[1;32m     48\u001b[0m         b = tf.get_variable('bias', [input_.get_shape()[1]],\n\u001b[1;32m     49\u001b[0m                             initializer=tf.constant_initializer(bias_start))\n",
      "\u001b[0;32m~/anaconda3/envs/tensorflow/lib/python3.5/site-packages/tensorflow/python/ops/variable_scope.py\u001b[0m in \u001b[0;36mget_variable\u001b[0;34m(name, shape, dtype, initializer, regularizer, trainable, collections, caching_device, partitioner, validate_shape, custom_getter)\u001b[0m\n\u001b[1;32m   1022\u001b[0m       \u001b[0mcollections\u001b[0m\u001b[0;34m=\u001b[0m\u001b[0mcollections\u001b[0m\u001b[0;34m,\u001b[0m \u001b[0mcaching_device\u001b[0m\u001b[0;34m=\u001b[0m\u001b[0mcaching_device\u001b[0m\u001b[0;34m,\u001b[0m\u001b[0;34m\u001b[0m\u001b[0m\n\u001b[1;32m   1023\u001b[0m       \u001b[0mpartitioner\u001b[0m\u001b[0;34m=\u001b[0m\u001b[0mpartitioner\u001b[0m\u001b[0;34m,\u001b[0m \u001b[0mvalidate_shape\u001b[0m\u001b[0;34m=\u001b[0m\u001b[0mvalidate_shape\u001b[0m\u001b[0;34m,\u001b[0m\u001b[0;34m\u001b[0m\u001b[0m\n\u001b[0;32m-> 1024\u001b[0;31m       custom_getter=custom_getter)\n\u001b[0m\u001b[1;32m   1025\u001b[0m \u001b[0;34m\u001b[0m\u001b[0m\n\u001b[1;32m   1026\u001b[0m \u001b[0;34m\u001b[0m\u001b[0m\n",
      "\u001b[0;32m~/anaconda3/envs/tensorflow/lib/python3.5/site-packages/tensorflow/python/ops/variable_scope.py\u001b[0m in \u001b[0;36mget_variable\u001b[0;34m(self, var_store, name, shape, dtype, initializer, regularizer, trainable, collections, caching_device, partitioner, validate_shape, custom_getter)\u001b[0m\n\u001b[1;32m    848\u001b[0m           \u001b[0mcollections\u001b[0m\u001b[0;34m=\u001b[0m\u001b[0mcollections\u001b[0m\u001b[0;34m,\u001b[0m \u001b[0mcaching_device\u001b[0m\u001b[0;34m=\u001b[0m\u001b[0mcaching_device\u001b[0m\u001b[0;34m,\u001b[0m\u001b[0;34m\u001b[0m\u001b[0m\n\u001b[1;32m    849\u001b[0m           \u001b[0mpartitioner\u001b[0m\u001b[0;34m=\u001b[0m\u001b[0mpartitioner\u001b[0m\u001b[0;34m,\u001b[0m \u001b[0mvalidate_shape\u001b[0m\u001b[0;34m=\u001b[0m\u001b[0mvalidate_shape\u001b[0m\u001b[0;34m,\u001b[0m\u001b[0;34m\u001b[0m\u001b[0m\n\u001b[0;32m--> 850\u001b[0;31m           custom_getter=custom_getter)\n\u001b[0m\u001b[1;32m    851\u001b[0m \u001b[0;34m\u001b[0m\u001b[0m\n\u001b[1;32m    852\u001b[0m   def _get_partitioned_variable(self,\n",
      "\u001b[0;32m~/anaconda3/envs/tensorflow/lib/python3.5/site-packages/tensorflow/python/ops/variable_scope.py\u001b[0m in \u001b[0;36mget_variable\u001b[0;34m(self, name, shape, dtype, initializer, regularizer, reuse, trainable, collections, caching_device, partitioner, validate_shape, custom_getter)\u001b[0m\n\u001b[1;32m    344\u001b[0m           \u001b[0mreuse\u001b[0m\u001b[0;34m=\u001b[0m\u001b[0mreuse\u001b[0m\u001b[0;34m,\u001b[0m \u001b[0mtrainable\u001b[0m\u001b[0;34m=\u001b[0m\u001b[0mtrainable\u001b[0m\u001b[0;34m,\u001b[0m \u001b[0mcollections\u001b[0m\u001b[0;34m=\u001b[0m\u001b[0mcollections\u001b[0m\u001b[0;34m,\u001b[0m\u001b[0;34m\u001b[0m\u001b[0m\n\u001b[1;32m    345\u001b[0m           \u001b[0mcaching_device\u001b[0m\u001b[0;34m=\u001b[0m\u001b[0mcaching_device\u001b[0m\u001b[0;34m,\u001b[0m \u001b[0mpartitioner\u001b[0m\u001b[0;34m=\u001b[0m\u001b[0mpartitioner\u001b[0m\u001b[0;34m,\u001b[0m\u001b[0;34m\u001b[0m\u001b[0m\n\u001b[0;32m--> 346\u001b[0;31m           validate_shape=validate_shape)\n\u001b[0m\u001b[1;32m    347\u001b[0m \u001b[0;34m\u001b[0m\u001b[0m\n\u001b[1;32m    348\u001b[0m   def _get_partitioned_variable(\n",
      "\u001b[0;32m~/anaconda3/envs/tensorflow/lib/python3.5/site-packages/tensorflow/python/ops/variable_scope.py\u001b[0m in \u001b[0;36m_true_getter\u001b[0;34m(name, shape, dtype, initializer, regularizer, reuse, trainable, collections, caching_device, partitioner, validate_shape)\u001b[0m\n\u001b[1;32m    329\u001b[0m           \u001b[0minitializer\u001b[0m\u001b[0;34m=\u001b[0m\u001b[0minitializer\u001b[0m\u001b[0;34m,\u001b[0m \u001b[0mregularizer\u001b[0m\u001b[0;34m=\u001b[0m\u001b[0mregularizer\u001b[0m\u001b[0;34m,\u001b[0m \u001b[0mreuse\u001b[0m\u001b[0;34m=\u001b[0m\u001b[0mreuse\u001b[0m\u001b[0;34m,\u001b[0m\u001b[0;34m\u001b[0m\u001b[0m\n\u001b[1;32m    330\u001b[0m           \u001b[0mtrainable\u001b[0m\u001b[0;34m=\u001b[0m\u001b[0mtrainable\u001b[0m\u001b[0;34m,\u001b[0m \u001b[0mcollections\u001b[0m\u001b[0;34m=\u001b[0m\u001b[0mcollections\u001b[0m\u001b[0;34m,\u001b[0m\u001b[0;34m\u001b[0m\u001b[0m\n\u001b[0;32m--> 331\u001b[0;31m           caching_device=caching_device, validate_shape=validate_shape)\n\u001b[0m\u001b[1;32m    332\u001b[0m \u001b[0;34m\u001b[0m\u001b[0m\n\u001b[1;32m    333\u001b[0m     \u001b[0;32mif\u001b[0m \u001b[0mcustom_getter\u001b[0m \u001b[0;32mis\u001b[0m \u001b[0;32mnot\u001b[0m \u001b[0;32mNone\u001b[0m\u001b[0;34m:\u001b[0m\u001b[0;34m\u001b[0m\u001b[0m\n",
      "\u001b[0;32m~/anaconda3/envs/tensorflow/lib/python3.5/site-packages/tensorflow/python/ops/variable_scope.py\u001b[0m in \u001b[0;36m_get_single_variable\u001b[0;34m(self, name, shape, dtype, initializer, regularizer, partition_info, reuse, trainable, collections, caching_device, validate_shape)\u001b[0m\n\u001b[1;32m    630\u001b[0m                          \u001b[0;34m\" Did you mean to set reuse=True in VarScope? \"\u001b[0m\u001b[0;34m\u001b[0m\u001b[0m\n\u001b[1;32m    631\u001b[0m                          \"Originally defined at:\\n\\n%s\" % (\n\u001b[0;32m--> 632\u001b[0;31m                              name, \"\".join(traceback.format_list(tb))))\n\u001b[0m\u001b[1;32m    633\u001b[0m       \u001b[0mfound_var\u001b[0m \u001b[0;34m=\u001b[0m \u001b[0mself\u001b[0m\u001b[0;34m.\u001b[0m\u001b[0m_vars\u001b[0m\u001b[0;34m[\u001b[0m\u001b[0mname\u001b[0m\u001b[0;34m]\u001b[0m\u001b[0;34m\u001b[0m\u001b[0m\n\u001b[1;32m    634\u001b[0m       \u001b[0;32mif\u001b[0m \u001b[0;32mnot\u001b[0m \u001b[0mshape\u001b[0m\u001b[0;34m.\u001b[0m\u001b[0mis_compatible_with\u001b[0m\u001b[0;34m(\u001b[0m\u001b[0mfound_var\u001b[0m\u001b[0;34m.\u001b[0m\u001b[0mget_shape\u001b[0m\u001b[0;34m(\u001b[0m\u001b[0;34m)\u001b[0m\u001b[0;34m)\u001b[0m\u001b[0;34m:\u001b[0m\u001b[0;34m\u001b[0m\u001b[0m\n",
      "\u001b[0;31mValueError\u001b[0m: Variable linear_fa_prediction/weights/Matrix already exists, disallowed. Did you mean to set reuse=True in VarScope? Originally defined at:\n\n  File \"/Users/pamop/anaconda3/envs/tensorflow/lib/python3.5/site-packages/pomdpy/solvers/ops.py\", line 47, in simple_linear\n    initializer)\n  File \"/Users/pamop/anaconda3/envs/tensorflow/lib/python3.5/site-packages/pomdpy/solvers/linear_alpha_net.py\", line 151, in build_linear_network\n    activation_fn=None, name='weights')\n  File \"/Users/pamop/anaconda3/envs/tensorflow/lib/python3.5/site-packages/pomdpy/solvers/linear_alpha_net.py\", line 30, in __init__\n    self.build_linear_network()\n"
     ]
    }
   ],
   "source": [
    "valit(env=\"Tiger\", solver=\"LinearAlphaNet\", seed=2000, use_tf=True, discount=0.95, n_epochs=1000, max_steps=10, save=True, learning_rate=0.05, learning_rate_minimum=0.0025, learning_rate_decay=0.996, learning_rate_decay_step=50,beta=0.001, test=10, epsilon_start=0.2, epsilon_minimum=0.05, epsilon_decay=0.96, epsilon_decay_step=75, planning_horizon=5)"
   ]
  },
  {
   "cell_type": "code",
   "execution_count": null,
   "metadata": {},
   "outputs": [],
   "source": [
    "# Now to observe the data output... which unfortunately saves to my environment's rendition of pomdpy instead of\n",
    "# being preserved in this notebook so the following code won't run except on my computer"
   ]
  },
  {
   "cell_type": "code",
   "execution_count": 68,
   "metadata": {},
   "outputs": [
    {
     "name": "stdout",
     "output_type": "stream",
     "text": [
      "Alpha vector  1 : action = 0 , v = [0.16147786 0.16147786]\n",
      "Alpha vector  2 : action = 1 , v = [-4.2419715  2.1209857]\n",
      "Alpha vector  3 : action = 2 , v = [ 2.1209857 -4.2419715]\n"
     ]
    }
   ],
   "source": [
    "import pprint, pickle\n",
    "\n",
    "# Unpickle Linear alpha net vectors pickle\n",
    "pkl_file = open('/Users/pamop/anaconda3/envs/tensorflow/lib/python3.5/site-packages/experiments/pickle_jar/linear_alpha_net_vectors.pkl', 'rb')\n",
    "alpha_vectors = pickle.load(pkl_file)\n",
    "# pprint.pprint(data1)\n",
    "\n",
    "# Print alpha vector data to screen\n",
    "for i in range(0, len(alpha_vectors)):\n",
    "    vec = alpha_vectors.pop()\n",
    "    print(\"Alpha vector \", str(i+1),\": action =\", str(vec.action), \", v =\", str(vec.v))\n",
    "\n"
   ]
  },
  {
   "cell_type": "code",
   "execution_count": 54,
   "metadata": {},
   "outputs": [
    {
     "data": {
      "text/plain": [
       "3"
      ]
     },
     "execution_count": 54,
     "metadata": {},
     "output_type": "execute_result"
    }
   ],
   "source": []
  },
  {
   "cell_type": "code",
   "execution_count": null,
   "metadata": {},
   "outputs": [],
   "source": []
  }
 ],
 "metadata": {
  "kernelspec": {
   "display_name": "Python 3",
   "language": "python",
   "name": "python3"
  },
  "language_info": {
   "codemirror_mode": {
    "name": "ipython",
    "version": 3
   },
   "file_extension": ".py",
   "mimetype": "text/x-python",
   "name": "python",
   "nbconvert_exporter": "python",
   "pygments_lexer": "ipython3",
   "version": "3.5.4"
  }
 },
 "nbformat": 4,
 "nbformat_minor": 2
}
