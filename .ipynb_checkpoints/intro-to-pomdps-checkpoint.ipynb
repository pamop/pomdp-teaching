{
 "cells": [
  {
   "cell_type": "markdown",
   "metadata": {},
   "source": [
    "# Introduction to POMDPs\n",
    "  \n",
    "pam osborn popp pamop@nyu.edu   \n",
    "feb 2018  \n",
    "\n",
    "##### rough outline:\n",
    "1. MDP vs. POMDP vs. HMM\n",
    "    - little chart of markov chain, MDP, POMDP, HMM\n",
    "2. How we visualize POMDP solutions\n",
    "    - belief spaces associated with actions \n",
    "3. "
   ]
  }
 ],
 "metadata": {
  "kernelspec": {
   "display_name": "Python 3",
   "language": "python",
   "name": "python3"
  },
  "language_info": {
   "codemirror_mode": {
    "name": "ipython",
    "version": 3
   },
   "file_extension": ".py",
   "mimetype": "text/x-python",
   "name": "python",
   "nbconvert_exporter": "python",
   "pygments_lexer": "ipython3",
   "version": "3.5.4"
  }
 },
 "nbformat": 4,
 "nbformat_minor": 2
}
