{
 "cells": [
  {
   "cell_type": "markdown",
   "metadata": {},
   "source": [
    "# simple value iteration example\n",
    "tiger problem  \n",
    "3/20/2018\n"
   ]
  },
  {
   "cell_type": "code",
   "execution_count": 4,
   "metadata": {
    "collapsed": true
   },
   "outputs": [],
   "source": [
    "import numpy as np"
   ]
  },
  {
   "cell_type": "code",
   "execution_count": 5,
   "metadata": {
    "collapsed": true
   },
   "outputs": [],
   "source": [
    "def value_iteration(R,T,gamma,nStates,nActions,max_error):\n",
    "    V = np.zeros([nStates,1])\n",
    "    Q = np.zeros([nStates,nActions])\n",
    "    t = 0\n",
    "    error = V + max_error + 1 # arbitrary to start while loop\n",
    "    while not all(i < max_error for i in error):\n",
    "        t = t+1\n",
    "#         print(\"TIMESTEP\",t)\n",
    "        V = np.append(V,np.zeros([nStates,1]),axis=1)\n",
    "        for s in range(nStates): \n",
    "            for a in range(nActions):\n",
    "                Q[s,a] = R[s,a] + gamma*np.dot(T[a,s,:],V[:,t-1])\n",
    "#             print(\"Q:\",Q)\n",
    "            V[s,t] = np.amax(Q[s,:]) \n",
    "        error = np.abs(V[:,t] - V[:,t-1])\n",
    "#         print('V_t:',V[:,t])\n",
    "#         print('error:',error)\n",
    "    \n",
    "    # Greedily select policy from V\n",
    "    policy = np.argmax(Q,axis=1)\n",
    "    \n",
    "    return V, policy\n"
   ]
  },
  {
   "cell_type": "code",
   "execution_count": 6,
   "metadata": {
    "collapsed": true
   },
   "outputs": [],
   "source": [
    "# Let's do a cute example: imagine there are 4 states, 2 actions.\n",
    "# You're starting a business and have to decide whether to save or advertise at each step.\n",
    "# You can be in one of 4 states: poor and unknown, poor and famous, rich and unknown, and rich and famous. \n",
    "# example courtesy of: http://www.cs.cmu.edu/~guestrin/Class/10701-S07/Slides/mdps.pdf\n",
    "\n",
    "# actions = save, advertise\n",
    "nActions = 2\n",
    "actions = [\"save\", \"advertise\"]\n",
    "# states = pu, pf, ru, rf\n",
    "nStates = 4\n",
    "states = [\"poor and unknown\",\"poor and famous\",\"rich and unknown\",\"rich and famous\"]\n",
    "\n",
    "# gamma: discount factor\n",
    "gamma = 0.9\n",
    "# R: rewards in each of four states same for both actions\n",
    "R = np.array([[0,0],[0,0],[10,10],[10,10]]) \n",
    "# T: 4x4x2 matrix of probabilities of transitions between states for the two actions\n",
    "T = np.array([[[1,0,0,0],[0.5,0,0,0.5],[0.5,0,0.5,0],[0,0,0.5,0.5]],\n",
    "              [[0.5,0.5,0,0],[0,1,0,0],[0.5,0.5,0,0],[0,1,0,0]]])"
   ]
  },
  {
   "cell_type": "code",
   "execution_count": 9,
   "metadata": {
    "collapsed": true
   },
   "outputs": [],
   "source": [
    "def printPolicy(policy,states,actions):\n",
    "    for i in range(len(policy)):\n",
    "        print(\"In state \" + states[i] + \", take policy \" + actions[policy[i]])\n"
   ]
  },
  {
   "cell_type": "code",
   "execution_count": 10,
   "metadata": {
    "scrolled": true
   },
   "outputs": [
    {
     "name": "stdout",
     "output_type": "stream",
     "text": [
      "Policy: [1 0 0 0]\n",
      "In state poor and unknown, take policy advertise\n",
      "In state poor and famous, take policy save\n",
      "In state rich and unknown, take policy save\n",
      "In state rich and famous, take policy save\n"
     ]
    }
   ],
   "source": [
    "# Define max_error (epsilon) and perform value iteration\n",
    "max_error = 0.01\n",
    "V,policy = value_iteration(R,T,gamma,nStates,nActions,max_error)\n",
    "print(\"Policy:\",policy)\n",
    "\n",
    "printPolicy(policy,states,actions)"
   ]
  },
  {
   "cell_type": "code",
   "execution_count": 11,
   "metadata": {},
   "outputs": [
    {
     "data": {
      "text/plain": [
       "array([0, 0, 1, 0])"
      ]
     },
     "execution_count": 11,
     "metadata": {},
     "output_type": "execute_result"
    }
   ],
   "source": [
    "# Q = np.array([[ 0, 0],\n",
    "#  [ 2, 0],\n",
    "#  [3, 10],\n",
    "#  [10, 10]])\n",
    "# np.argmax(Q,axis=1)"
   ]
  },
  {
   "cell_type": "code",
   "execution_count": 190,
   "metadata": {
    "collapsed": true
   },
   "outputs": [],
   "source": []
  },
  {
   "cell_type": "code",
   "execution_count": null,
   "metadata": {
    "collapsed": true
   },
   "outputs": [],
   "source": []
  }
 ],
 "metadata": {
  "kernelspec": {
   "display_name": "Python 3",
   "language": "python",
   "name": "python3"
  },
  "language_info": {
   "codemirror_mode": {
    "name": "ipython",
    "version": 3
   },
   "file_extension": ".py",
   "mimetype": "text/x-python",
   "name": "python",
   "nbconvert_exporter": "python",
   "pygments_lexer": "ipython3",
   "version": "3.5.4"
  }
 },
 "nbformat": 4,
 "nbformat_minor": 2
}
